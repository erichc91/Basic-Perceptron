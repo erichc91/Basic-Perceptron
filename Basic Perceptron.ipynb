{
 "cells": [
  {
   "cell_type": "markdown",
   "metadata": {},
   "source": [
    "***\n",
    "#Basic  Perceptron",
    "***"
   ]
  },
  {
   "cell_type": "code",
   "execution_count": null,
   "metadata": {},
   "outputs": [],
   "source": [
    "using CSV\n",
    "using Plots"
   ]
  },
  {
   "cell_type": "code",
   "execution_count": null,
   "metadata": {},
   "outputs": [],
   "source": [
    "iris_dat = CSV.read(\"iris_data.csv\")\n",
    "data = [x for x in zip(iris_dat[1],iris_dat[2],iris_dat[5])]"
   ]
  },
  {
   "cell_type": "markdown",
   "metadata": {},
   "source": [
    "First an foremost this code works on Julia 1.1.0 as of February 25 2020. Using nothing but a CSV and Plots package we will visually demonstrate and walkthrough a basic perceptron build."
   ]
  },
  {
   "cell_type": "markdown",
   "metadata": {},
   "source": [
    "The model shows that depending on an input we will tailor weights such that the sum will trigger a reaction from the sigmoid depending on the need we have for it."
   ]
  },
  {
   "cell_type": "markdown",
   "metadata": {},
   "source": [
    "<img src=\"https://miro.medium.com/max/1740/1*Fyapb-JRFJ-VtnLYLLXCwg.png\"/>"
   ]
  },
  {
   "cell_type": "code",
   "execution_count": null,
   "metadata": {
    "scrolled": true
   },
   "outputs": [],
   "source": [
    "weights = rand(3)"
   ]
  },
  {
   "cell_type": "markdown",
   "metadata": {},
   "source": [
    "## Sigmoid Function\n",
    "This z function below serves the $\\sum^{n}_{i=1}{w_i*x_i}$\n",
    "once calculated we return a sum value from the dot product of the x inputs and the weights"
   ]
  },
  {
   "cell_type": "code",
   "execution_count": null,
   "metadata": {},
   "outputs": [],
   "source": [
    "function z(input,weights)\n",
    "    input = collect(input[1:2])\n",
    "    inputs = [1, input[1],input[2]]\n",
    "    return weights'*inputs\n",
    "end"
   ]
  },
  {
   "cell_type": "code",
   "execution_count": null,
   "metadata": {
    "scrolled": true
   },
   "outputs": [],
   "source": [
    "z(data[1],weights)"
   ]
  },
  {
   "cell_type": "markdown",
   "metadata": {},
   "source": [
    "Below this cell is a simple function to determine the real class from our \"training set\" which is properly clasified so we can test our preceptron later"
   ]
  },
  {
   "cell_type": "code",
   "execution_count": null,
   "metadata": {},
   "outputs": [],
   "source": [
    "function actual_class(input)\n",
    "    return input[3]==\"setosa\" ? 1 : 0\n",
    "end"
   ]
  },
  {
   "cell_type": "markdown",
   "metadata": {},
   "source": [
    "Finally in this below cell we have a iterate that will adjust the weights up and down depending on their misclassification. In their written math proof from they write as:"
   ]
  },
  {
   "cell_type": "markdown",
   "metadata": {},
   "source": [
    "$$\\begin{eqnarray}\n",
    "\\sum^{n}_{i=1}{w_i*x_i-\\theta>=0}\\\\\n",
    "\\sum^{n}_{i=1}{w_i*x_i-\\theta<0}\\\\\n",
    "\\end{eqnarray}$$"
   ]
  },
  {
   "cell_type": "code",
   "execution_count": null,
   "metadata": {},
   "outputs": [],
   "source": [
    "N = 1000000\n",
    "for i in 1:N\n",
    "    rand_iris = data[rand(1:150)]\n",
    "    if actual_class(rand_iris)==1 && z(rand_iris,weights) < 0\n",
    "        weights = weights + [1, rand_iris[1], rand_iris[2]]\n",
    "    elseif actual_class(rand_iris)==0 && z(rand_iris,weights) >= 0\n",
    "        weights = weights - [1, rand_iris[1], rand_iris[2]]\n",
    "    end\n",
    "end"
   ]
  },
  {
   "cell_type": "code",
   "execution_count": null,
   "metadata": {
    "scrolled": false
   },
   "outputs": [],
   "source": [
    "weights"
   ]
  },
  {
   "cell_type": "markdown",
   "metadata": {},
   "source": [
    "So now we see that our weights are adjusted, we will create a predictor function and calculate at what rate are these adjusted weights calculating correctly "
   ]
  },
  {
   "cell_type": "code",
   "execution_count": null,
   "metadata": {},
   "outputs": [],
   "source": [
    "function predictor(input,weights)\n",
    "    input = collect(input[1:2])\n",
    "    inputs = [1, input[1],input[2]]\n",
    "    return weights'*inputs >=0 ? 1 : 0\n",
    "end"
   ]
  },
  {
   "cell_type": "code",
   "execution_count": null,
   "metadata": {},
   "outputs": [],
   "source": [
    "predictor(data[34],weights)"
   ]
  },
  {
   "cell_type": "code",
   "execution_count": null,
   "metadata": {},
   "outputs": [],
   "source": [
    "times_right = []\n",
    "for _ in 1:N\n",
    "    rand_iris = data[rand(1:150)]\n",
    "    if predictor(rand_iris,weights)==actual_class(rand_iris)\n",
    "        append!(times_right,1)\n",
    "    end\n",
    "end\n",
    "sum(times_right)/N"
   ]
  },
  {
   "cell_type": "code",
   "execution_count": null,
   "metadata": {},
   "outputs": [],
   "source": [
    "scatter!([x[1:2] for x in data if x[3]==\"setosa\"],label = \"setosa\")\n",
    "scatter!([x[1:2] for x in data if x[3]!=\"setosa\"],label = \"versicolor\")                "
   ]
  },
  {
   "cell_type": "code",
   "execution_count": null,
   "metadata": {
    "scrolled": true
   },
   "outputs": [],
   "source": [
    "plot!(x -> (-weights[1]-weights[2]*x)/weights[3], label = \"learned seperator\")"
   ]
  },
  {
   "cell_type": "code",
   "execution_count": null,
   "metadata": {},
   "outputs": [],
   "source": []
  }
 ],
 "metadata": {
  "kernelspec": {
   "display_name": "Julia 1.1.0",
   "language": "julia",
   "name": "julia-1.1"
  },
  "language_info": {
   "file_extension": ".jl",
   "mimetype": "application/julia",
   "name": "julia",
   "version": "1.1.0"
  }
 },
 "nbformat": 4,
 "nbformat_minor": 2
}
